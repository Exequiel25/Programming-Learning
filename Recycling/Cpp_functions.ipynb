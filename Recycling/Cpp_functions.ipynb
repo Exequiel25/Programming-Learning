{
 "cells": [
  {
   "cell_type": "markdown",
   "id": "62dcfbfb-c897-446a-94c3-dca22e3035ed",
   "metadata": {},
   "source": [
    "# C++/Cpp General functions to resolve problems"
   ]
  },
  {
   "cell_type": "code",
   "execution_count": null,
   "id": "ed53ba4a-f59a-4a47-925a-602aa853fc78",
   "metadata": {},
   "outputs": [],
   "source": []
  }
 ],
 "metadata": {
  "kernelspec": {
   "display_name": "Python 3 (ipykernel)",
   "language": "python",
   "name": "python3"
  },
  "language_info": {
   "codemirror_mode": {
    "name": "ipython",
    "version": 3
   },
   "file_extension": ".py",
   "mimetype": "text/x-python",
   "name": "python",
   "nbconvert_exporter": "python",
   "pygments_lexer": "ipython3",
   "version": "3.10.5"
  }
 },
 "nbformat": 4,
 "nbformat_minor": 5
}
