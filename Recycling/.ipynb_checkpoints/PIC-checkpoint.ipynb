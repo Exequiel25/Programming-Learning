{
 "cells": [
  {
   "cell_type": "markdown",
   "id": "80489792-3da0-430b-8626-1061b73d5bae",
   "metadata": {},
   "source": [
    "# Microchip PIC"
   ]
  },
  {
   "cell_type": "markdown",
   "id": "835df38f-899f-4337-aed2-5c114191590a",
   "metadata": {},
   "source": [
    "![Scaling_PICs](src/Scaling_PICs.jpeg)\n",
    "\n",
    "- 32 Bits de bus de datos de memoria de datos (Línea 32 hasta 80MIPS)\n",
    "- 16 Bits de bus de datos de mem. de datos (Línea 24XX hasta 40 MIPS)\n",
    "- 8 Bits de bus de datos de mem. de datos\n",
    "    - Alta Performance (18XX) para alto rendimiento\n",
    "        - 79 instrucciones de 16 bit –10 -16 MIPS\n",
    "        - 18-80 pins\n",
    "    - Rango Medio (16XX)Características standards\n",
    "        - Soporte de Interrupciones\n",
    "        - 35 instrucciones de 14 bits –5 -10 MIPS\n",
    "        - 8 –64 pins\n",
    "    - Básico (12XX)Características standards\n",
    "        - 33 instrucciones de 12 bits –5 MIPS\n",
    "        - 6 –40 pins\n",
    "\n",
    "MIPS hace referencia a la velocidad del procesador en Millones de instrucciones por segundo"
   ]
  },
  {
   "cell_type": "markdown",
   "id": "fbd43453-9c96-46d2-b7eb-6e2ccb6502b0",
   "metadata": {},
   "source": [
    "## Ciclos de instrucción\n",
    "\n",
    "![TCY](src/TCY.png)\n",
    "\n",
    "De la imagen: \"El timepo de ejecución de una instrucción está dado por 4 ciclos de la oscilación (o ciclo de reloj) (**CPI**)\"\n",
    "\n",
    "***RECORDAR***: Algunas instrucciones requieren más de 1 ciclo de instrucción."
   ]
  },
  {
   "cell_type": "markdown",
   "id": "2f959f07-39b4-43da-99cd-6ccf474790bb",
   "metadata": {},
   "source": [
    "## PC\n",
    "Excepciones en el incremento en 1 en el PC:\n",
    "- Salto por reset, siempre a la dirección 0h\n",
    "- Suspensión ,el contador de programa se detiene\n",
    "- Saltos incondicionales a direcciones elegidas por el programador\n",
    "- Saltos a subrutinas en direcciones también elegidas por el programador\n",
    "- Saltos condicionales, una condición +1, la otra condición +2\n",
    "- Saltos por interrupción, siempre a la dirección 4h\n",
    "- Retorno de una subrutina o interrupción, se vuelve a la dirección en la posición superior de la pila del stack + 1"
   ]
  },
  {
   "cell_type": "markdown",
   "id": "d731f40d-6a61-4078-bfd8-b6be9725c4d1",
   "metadata": {},
   "source": [
    "## Stack\n",
    "- Almacenamiento de 8 niveles para guardar el contador de programa (PC)\n",
    "    - Permitiendo hasta 8 subrutinas anidadas\n",
    "- La condición de guardado se da para:\n",
    "    - Llamadas call (PC salta a la dirección de la llamada)\n",
    "    - Interrupciones (PC salta a 0004h)\n",
    "- La condición de regreso se da con las instrucciones:\n",
    "    - return\n",
    "    - retlw\n",
    "    - retfie\n",
    "- Inaccesible en forma directa para lectura o escritura\n",
    "    - Solo accesible por el microcontrolador"
   ]
  },
  {
   "cell_type": "markdown",
   "id": "36e014a2-6ba6-447b-983f-08404995dabe",
   "metadata": {},
   "source": [
    "## Watchdog\n",
    "- Contador de tiempo que luego de un periodo de ejecución genera su desborde produciendo una operación de WDT time-out\n",
    "- La operación de WDT time-out:\n",
    "    - En operación normal resetea el dispositivo.[PC=0]\n",
    "    - En suspensión lo despierta (wake up).[PC=PC+1]\n",
    "- El tiempo es de 18 ms pero puede incrementarse al configurar un preescaler compartido con los temporizadores.\n",
    "- Las instrucciones CLRWDT and SLEEP resetean el temporizador de WDT.\n",
    "- El temporizador de WDT se mantiene corriendo durante la suspensión"
   ]
  },
  {
   "cell_type": "markdown",
   "id": "856ab195-e7af-45ac-af69-e731e91104ad",
   "metadata": {},
   "source": [
    "## Suspensión / Sleep\n",
    "Se activa con instrucción `sleep`\n",
    "Se despierta por:\n",
    "- Reseteo extern m- ediante el pin MRST con PC=0000h\n",
    "- WDT-OUT durante e- stado de suspensión con PC=PC+1\n",
    "- Interrupción (a e- xcepción de desborde de TMR0) con PC=0004h"
   ]
  },
  {
   "cell_type": "markdown",
   "id": "ce140722-dfff-43f1-9ce3-b8c4188850aa",
   "metadata": {},
   "source": [
    "## Reset\n",
    "\n",
    "PC (contador de programa) en 0000h (vector de reset).\n",
    "\n",
    "La condición de reset se da:\n",
    "- Al colocarle alimentación\n",
    "- Reseteo externo mediante el pin MRST en funcionamiento\n",
    "- Reseteo externo mediante el pin MRST en suspensión\n",
    "- WDT-out durante funcionamiento\n",
    "\n",
    "La condición de reset no se da:\n",
    "- WDT-out durante suspensión [CP=CP+1]\n",
    "- Interrupciones [CP=0004h]"
   ]
  },
  {
   "cell_type": "markdown",
   "id": "04526e1e-ca1c-4a88-b058-a9c9b72c51f3",
   "metadata": {},
   "source": [
    "## Interrupciones\n",
    "\n",
    "### Fuentes\n",
    "1. Interrupción externa por flanco en pin RB0/INT.\n",
    "2. Interrupción de desborde de TMR0 (no puede despertar el dispositivo).\n",
    "3. Interrupción de cambio de estado en PORTB (RB7 a RB4).\n",
    "4. Interrupción de escritura completa de EEPROM"
   ]
  },
  {
   "cell_type": "markdown",
   "id": "9bc93bcc-52b6-4035-963b-b018191ac14b",
   "metadata": {
    "tags": []
   },
   "source": [
    "## Preguntas importantes\n",
    "\n",
    "1. **¿Porque piensa que en el PIC de la filmina los buses de dirección tienen un tamaño más grande que la memoria del dispositivo?**\n",
    "\n",
    "Porque el **bus** está pensado para ser usado en otros PICs que _posean mayor cantidad de memoria de programa y de datos_\n",
    "\n",
    "2. **En la ejecución normal de un programa, ¿por qué piensa que el bus de datos de datos es de escritura y lectura mientras que el bus de datos de instrucción es de solo lectura?**\n",
    "\n",
    "Porque durante la ejecución normal, las instrucciones y, por lo tanto, la **memoria de programa** _solo se leen_, mientras que _la memoria de datos se puede leer o escribir_.\n",
    "\n",
    "3. **Para esta arquitectura, ¿en qué situaciones piensa que el bus de datos de instrucción debería ser de escritura?**\n",
    "\n",
    "Al momento de _realizar la grabación del programa en la memoria FLASH_ del dispositivo.\n",
    "\n",
    "4. **Calcule con el bus de dirección correspondiente, ¿cuál sería el tamaño máximo de la memoria de instrucciones en bits?**\n",
    "**Bus de datos = 14 bits**\n",
    "\n",
    "**Bus de direcciones = 13 bits**\n",
    "\n",
    "El _tamaño máximo de la memoria de instrucciones es $2^{13}*14=114 688$ bits_\n",
    "\n",
    "5. **Calcule con el bus de datos correspondiente, ¿cuál sería el tamaño máximo de la memoria de datos en bytes?**\n",
    "**Bus de datos = 8 bits**\n",
    "\n",
    "**Bus de direcciones = 7 bits**\n",
    "\n",
    "El _tamaño máximo de la memoria de instrucciones es $2^{7}*8 / 8=128$ bytes_\n",
    "\n",
    "6. **Un PIC 16F84A a su máxima velocidad de reloj, ¿Cuántas millones de instrucciones por segundo puede ejecutar?**\n",
    "\n",
    "Teniendo en cuenta que la máxima frecuencia de reloj del PIC 16F84A es de 20 Mhz, la cantidad de instrucciones (de ciclo único) por segundo que puede ejecutar es de $20 / 4$ = 5 MIPS\n",
    "\n",
    "7. **Las instrucciones que ejecuta el 16F84 solo pueden operar con datos en _memoria de 8 bits_. Si usted necesita operar con datos que exceden el tamaño de este registro, ¿piensa que es posible resolverlo con este microcontrolador? Justifique.**\n",
    "\n",
    "Es posible operar con registros de más de 8 bits **dividiéndolo en grupos de 8 bits** y **operando en cada uno de ellos**. Se requerirán muchas más instrucciones y por lo tanto no podrán ejecutarse en ciclo único como las operaciones fundamentales de 8 bits\n",
    "\n",
    "8. **¿Por qué piensa que el bit _IRP_ no es necesario utilizar con el PIC16F84?**\n",
    "\n",
    "Porque el PIC16f84 solo tiene dos bancos de memoria de datos, por lo cual para direccionamiento indirecto es suficiente _FSR_ para mapear toda la memoria.\n",
    "\n",
    "9. **El valor f, ¿que rango entre el valor mínimo y máximo puede tomar?**\n",
    "\n",
    "Puede tomar un valor en decimal comprendido entre 0 y 127 (hexadecimal entre 0 y 7f).\n",
    "\n",
    "10. **El valor d, ¿que rango entre el valor mínimo y máximo puede tomar?**\n",
    "\n",
    "Puede tomar solo dos valores, 0 (destino W) y 1 (destino F).\n",
    "\n",
    "11. **El valor b, ¿que rango entre el valor mínimo y máximo puede tomar?**\n",
    "\n",
    "Puede tomar 8 valores, desde 0 a 7 en decimal que representa la elección de cuál bit operar dentro de un registro.\n",
    "\n",
    "12. **Para las instrucciones con literales, el valor k, ¿que rango entre el valor mínimo y máximo puede tomar?**\n",
    "\n",
    "Puede tomar desde 0 a 255 en decimal que representa una constante de 8 bits.\n",
    "\n",
    "13. **Para las instrucciones de salto incondicional o llamada a subrutina, el valor k, ¿que rango entre el valor mínimo y máximo puede tomar?**\n",
    "\n",
    "Puede tomar desde 0 a 2047 en decimal que representa una dirección de memoria de programa a la cual saltará la instrucción.\n",
    "\n",
    "14. **Qué piensa qué sucedería si no borramos el bit EEIF e iniciamos una nueva escritura en la memoria EEPROM para los ejemplos de escritura de memoria EEPROM?**\n",
    "\n",
    "Este bit se pone en 1 cuando una escritura se ha finalizado pero no vuelve a 0 solo por lo tanto hay que hacerlo manualmente. Por lo tanto si no lo borramos manualmente apenas ingresemos a la rutina de detección de una nueva escritura finalizada (que consiste en detectar que este bit pase a '1' pensaremos que la misma ha finalizado (erróneo, ya que se encuentra en 1 por la escritura anterior).\n",
    "\n",
    "15. **¿Por qué un código máquina compilado desde c y el ensamblado desde assembler son diferentes? ¿Cuál considera que debe ser más reducido y óptimo?**\n",
    "\n",
    "Assembler es más reducido (en tamaño y ejecución) y permite más control al programador.\n",
    "C es más flexible respecto a compatibilidad entre arquitecturas"
   ]
  }
 ],
 "metadata": {
  "kernelspec": {
   "display_name": "Python 3 (ipykernel)",
   "language": "python",
   "name": "python3"
  },
  "language_info": {
   "codemirror_mode": {
    "name": "ipython",
    "version": 3
   },
   "file_extension": ".py",
   "mimetype": "text/x-python",
   "name": "python",
   "nbconvert_exporter": "python",
   "pygments_lexer": "ipython3",
   "version": "3.10.6"
  }
 },
 "nbformat": 4,
 "nbformat_minor": 5
}
