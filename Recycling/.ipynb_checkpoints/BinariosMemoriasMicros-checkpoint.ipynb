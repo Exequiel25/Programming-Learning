{
 "cells": [
  {
   "cell_type": "markdown",
   "id": "5964c8bb-1709-4ce6-ae3a-00acde4b5e19",
   "metadata": {},
   "source": [
    "# Binarios, memorias, microprocesadores y microcontroladores"
   ]
  },
  {
   "cell_type": "code",
   "execution_count": 2,
   "id": "b83c62e7-e3d0-45ac-b287-fde7362bf02f",
   "metadata": {
    "tags": []
   },
   "outputs": [],
   "source": [
    "import pandas as pd"
   ]
  },
  {
   "cell_type": "code",
   "execution_count": 4,
   "id": "8563ced1-3fcd-47c2-8e5b-a75fbee6ffdb",
   "metadata": {
    "tags": []
   },
   "outputs": [
    {
     "data": {
      "text/html": [
       "<div>\n",
       "<style scoped>\n",
       "    .dataframe tbody tr th:only-of-type {\n",
       "        vertical-align: middle;\n",
       "    }\n",
       "\n",
       "    .dataframe tbody tr th {\n",
       "        vertical-align: top;\n",
       "    }\n",
       "\n",
       "    .dataframe thead th {\n",
       "        text-align: right;\n",
       "    }\n",
       "</style>\n",
       "<table border=\"1\" class=\"dataframe\">\n",
       "  <thead>\n",
       "    <tr style=\"text-align: right;\">\n",
       "      <th></th>\n",
       "      <th>Prefijo decimal</th>\n",
       "      <th>Decimal</th>\n",
       "      <th>Prefijo binario</th>\n",
       "      <th>Binario</th>\n",
       "    </tr>\n",
       "  </thead>\n",
       "  <tbody>\n",
       "    <tr>\n",
       "      <th>0</th>\n",
       "      <td>kilobyte (kB)</td>\n",
       "      <td>$10^3$</td>\n",
       "      <td>kibibyte (KiB)</td>\n",
       "      <td>$2^{10}$</td>\n",
       "    </tr>\n",
       "    <tr>\n",
       "      <th>1</th>\n",
       "      <td>megabyte (MB)</td>\n",
       "      <td>$10^6$</td>\n",
       "      <td>mebibyte (MiB)</td>\n",
       "      <td>$2^{20}$</td>\n",
       "    </tr>\n",
       "    <tr>\n",
       "      <th>2</th>\n",
       "      <td>gigabyte (GB)</td>\n",
       "      <td>$10^9$</td>\n",
       "      <td>gibibyte (GiB)</td>\n",
       "      <td>$2^{30}$</td>\n",
       "    </tr>\n",
       "    <tr>\n",
       "      <th>3</th>\n",
       "      <td>terabyte (TB)</td>\n",
       "      <td>$10^{12}$</td>\n",
       "      <td>tebibyte (TiB)</td>\n",
       "      <td>$2^{40}$</td>\n",
       "    </tr>\n",
       "    <tr>\n",
       "      <th>4</th>\n",
       "      <td>petabyte (PB)</td>\n",
       "      <td>$10^{15}$</td>\n",
       "      <td>pebibyte (PiB)</td>\n",
       "      <td>$2^{50}$</td>\n",
       "    </tr>\n",
       "    <tr>\n",
       "      <th>5</th>\n",
       "      <td>exabyte (EB)</td>\n",
       "      <td>$10^{18}$</td>\n",
       "      <td>exbibyte (EiB)</td>\n",
       "      <td>$2^{60}$</td>\n",
       "    </tr>\n",
       "    <tr>\n",
       "      <th>6</th>\n",
       "      <td>zettabyte (ZB)</td>\n",
       "      <td>$10^{21}$</td>\n",
       "      <td>zebibyte (ZiB)</td>\n",
       "      <td>$2^{70}$</td>\n",
       "    </tr>\n",
       "    <tr>\n",
       "      <th>7</th>\n",
       "      <td>yottabyte (YB)</td>\n",
       "      <td>$10^{24}$</td>\n",
       "      <td>yobibyte (YiB)</td>\n",
       "      <td>$2^{80}$</td>\n",
       "    </tr>\n",
       "  </tbody>\n",
       "</table>\n",
       "</div>"
      ],
      "text/plain": [
       "  Prefijo decimal    Decimal Prefijo binario   Binario\n",
       "0   kilobyte (kB)     $10^3$  kibibyte (KiB)  $2^{10}$\n",
       "1   megabyte (MB)     $10^6$  mebibyte (MiB)  $2^{20}$\n",
       "2   gigabyte (GB)     $10^9$  gibibyte (GiB)  $2^{30}$\n",
       "3   terabyte (TB)  $10^{12}$  tebibyte (TiB)  $2^{40}$\n",
       "4   petabyte (PB)  $10^{15}$  pebibyte (PiB)  $2^{50}$\n",
       "5    exabyte (EB)  $10^{18}$  exbibyte (EiB)  $2^{60}$\n",
       "6  zettabyte (ZB)  $10^{21}$  zebibyte (ZiB)  $2^{70}$\n",
       "7  yottabyte (YB)  $10^{24}$  yobibyte (YiB)  $2^{80}$"
      ]
     },
     "execution_count": 4,
     "metadata": {},
     "output_type": "execute_result"
    }
   ],
   "source": [
    "df = pd.DataFrame({\n",
    "    'Prefijo decimal': ['kilobyte (kB)','megabyte (MB)','gigabyte (GB)','terabyte (TB)','petabyte (PB)','exabyte (EB)','zettabyte (ZB)','yottabyte (YB)'],\n",
    "    'Decimal': ['$10^3$','$10^6$','$10^9$','$10^{12}$','$10^{15}$','$10^{18}$','$10^{21}$','$10^{24}$'],\n",
    "    'Prefijo binario': ['kibibyte (KiB)','mebibyte (MiB)','gibibyte (GiB)','tebibyte (TiB)','pebibyte (PiB)','exbibyte (EiB)','zebibyte (ZiB)','yobibyte (YiB)'],\n",
    "    'Binario': ['$2^{10}$','$2^{20}$','$2^{30}$','$2^{40}$','$2^{50}$','$2^{60}$','$2^{70}$','$2^{80}$'] })\n",
    "df"
   ]
  },
  {
   "cell_type": "markdown",
   "id": "5a0c0a43-0e5e-491e-8d01-86e5488ceabf",
   "metadata": {},
   "source": [
    "**$2^{10}=1024 \\approx 10^{3} $** **_Significa que 10 bits pueden representar 3 dígitos decimales_**\n",
    "\n",
    "Ejemplo: _Si se tiene 70 bits; $70bits\\frac{3digitos}{10bits} = 21digitos$ (ya que cada 10 bits, representamos 3 dígitos decimales)_\n",
    "\n",
    "***RECORDAR***: Sólo es válida la aproximación para dígitos no muy grandes, a 9000 dígitos decimales obtenemos 30000 dígitos binarios, los cuáles representan en realidad un número de 9030 dígitos decimales, por ende las igualdades no se cumplen ya que se evidencia la diferencia de $1024\\approx 1000$"
   ]
  },
  {
   "cell_type": "markdown",
   "id": "f5f64809-98e2-4f05-ba92-a5fb5ba5f345",
   "metadata": {},
   "source": [
    "## Memorias\n",
    "#### Bus de Datos: Cantidad de bits que se pueden leer o grabar simultáneamente sobre una memoria\n",
    "#### Bus de Dirección: Bits usados para indicar la ubicación del dato dentro de la memoria\n",
    "####  Bus de Control"
   ]
  },
  {
   "cell_type": "markdown",
   "id": "3200317a-958f-402f-bfb5-7f3637aa76f1",
   "metadata": {},
   "source": [
    "**Ecuación para obtener capacidad de memoria (en bits)**\n",
    "\n",
    "$$ 2^{busDirecciones} * busDatos = capacidadMemoriaBits$$\n",
    "\n",
    "Para convertir en alguna unidad se debe hacer $ capacidadMemoriaBits * \\frac{unidadQuerida}{equivalenteBinario} $, ejemplo:\n",
    "\n",
    "_¿Cuánta memoria se puede direccionar en EiB (Exbibytes) con un **bus de direcciones de 64 bits** y un **bus de datos de 16 bits**?_\n",
    "$$2^{64}* 16 * \\frac{1}{2^{60}} = 256 exbibits = 32 exbibytes (EiB)$$\n",
    "***RECORDAR***: $1 byte = 8 bits$"
   ]
  },
  {
   "cell_type": "markdown",
   "id": "d6283bb1-0ea4-4cfd-b285-2d9ad0fcff33",
   "metadata": {},
   "source": [
    "### Arquitecturas\n",
    "\n",
    "![HARVARD_MEMORY](src/HARVARD_MEMORY.png)\n",
    "\n",
    "PIC\n",
    "\n",
    "- Ejecución de instrucciones en ciclo único\n",
    "- Instrucciones de 14 bits\n",
    "- Set de Instrucciones reducido\n",
    "- La memoria de datos y registros se direcciona directa o indirectamente\n",
    "- Todos los registros de funciones especiales (incluido el PC) están en mememoria de datos"
   ]
  },
  {
   "cell_type": "markdown",
   "id": "d41976e6-00b3-4d55-9029-2eed45a5d478",
   "metadata": {},
   "source": [
    "![VON_NEUMANN_MEMORY](src/VON_NEUMANN_MEMORY.jpeg)\n",
    "\n",
    "X86, ARM CORTEX M0, M1 y M23"
   ]
  },
  {
   "cell_type": "markdown",
   "id": "56579e15-6583-4ba4-ae0a-f9d1aab62fae",
   "metadata": {},
   "source": [
    "### Memorias no volátiles\n",
    "   ***ROM***: Memorias de sólo lectura generalmente grabadas de fábrica\n",
    "   \n",
    "   ***PROM***: Memorias programables una sola vez y luego solo lectura\n",
    "   \n",
    "   ***EPROM***: Se pueden borrar con luz ultravioleta para volver a escribir\n",
    "   \n",
    "   ***EEPROM***: Se pueden borrar eléctricamente para volver a escribir\n",
    "   \n",
    "   ***Flash***: Tipo de EEPROM mas nueva:  \n",
    "   - De tipo NAND en vez de NOR\n",
    "   - Se borra en bloques no bytes\n",
    "   - Mayor capacidad y velocidad\n",
    "   - Menor cantidad de reescrituras\n",
    "   \n",
    "Algunos microcontroladores, además de la memoria volátil de datos (RAM), poseen una memoria no volátil de datos (EEPROM) además de la memoria no volátil de programa FLASH. **Se utiliza una memoria EEPROM para los datos y no una FLASH** porque principalmente la memoria EEPROM tiene dos ventajas:\n",
    "- Se puede escribir individualmente byte a byte\n",
    "- Generalmente tiene una mayor cantidad de ciclos de borrado escritura antes de dañarse porlo tanto es preferible usar esa memoria como memoria de datos no volatil para usarse durante la ejecución normal de los programas\n",
    "\n",
    "***Si la memoria EEPROM tiene mayor cantidad de escrituras que la memoria FLASH, ¿por qué razones se usan, en los medios de almacenamiento masivos, memorias FLASH y porque no se deterioran rápidamente debido a esa limitación?***\n",
    "\n",
    "Las memorias FLASH tienen mayor escala de integración que las memorias EEPROM, lo cual permite memorias de mayor capacidad como las requeridas en medios de almacenamiento masivos. Si bien tienen una menor cantidad de escrituras antes de degradarse, dada su gran capacidad, las probabilidades de escribir reiteradamente sobre una misma posición de memoria son reducidas, además tienen protección por hardware con cierta inteligencia para escribir en posiciones físicas diferentes si por software se insiste en escribir en una mismo posición lógica y así evitar la destrucción prematura de determinadas celdas de memoria."
   ]
  },
  {
   "cell_type": "markdown",
   "id": "8e78c2ff-60b3-44ef-82fa-1855a3a23c86",
   "metadata": {},
   "source": [
    "## CPU"
   ]
  },
  {
   "cell_type": "markdown",
   "id": "840e16c2-68d1-4325-8411-85b83c5c1adc",
   "metadata": {},
   "source": [
    "<center><img src=\"./src/CPU.png\"/></center>"
   ]
  },
  {
   "cell_type": "markdown",
   "id": "dd540672-90ed-4f54-833b-06e4cced2c82",
   "metadata": {},
   "source": [
    "## Microcontrolador\n",
    "\n",
    "Integración en un solo chip (_mono-chip_):\n",
    "- Un CPU de potencia reducida pero de bajo consumo, reducido uso de espacio de silicio y costo\n",
    "- Memoria RAM de trabajo de poca capacidad pero integrada\n",
    "- Memoria EPROM, EEPROM o FLASH integrada de capacidad media para memoria de programa\n",
    "- Memoria EEPROM de pequeña capacidad para guardar datos integrada\n",
    "- Puertos de GPIO, de comunicaciones y conversores ADC y DAC integrados\n",
    "\n",
    "Diferencias con SoC (System On Chip)\n",
    "- SoC tienen más poder computacional (procesamiento, almacenamiento y por ende mayor consumo)\n",
    "- Pueden requerir de más de un chip para su implementación (multi-chip)\n",
    "- Características no útiles para procesadores de tareas específicas (gráficos, etc)"
   ]
  }
 ],
 "metadata": {
  "kernelspec": {
   "display_name": "Python 3 (ipykernel)",
   "language": "python",
   "name": "python3"
  },
  "language_info": {
   "codemirror_mode": {
    "name": "ipython",
    "version": 3
   },
   "file_extension": ".py",
   "mimetype": "text/x-python",
   "name": "python",
   "nbconvert_exporter": "python",
   "pygments_lexer": "ipython3",
   "version": "3.10.6"
  }
 },
 "nbformat": 4,
 "nbformat_minor": 5
}
